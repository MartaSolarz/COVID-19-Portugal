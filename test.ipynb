{
 "cells": [
  {
   "cell_type": "code",
   "execution_count": null,
   "id": "initial_id",
   "metadata": {
    "collapsed": true,
    "jupyter": {
     "outputs_hidden": true
    }
   },
   "outputs": [],
   "source": [
    "import pandas as pd\n",
    "import matplotlib.pyplot as plt"
   ]
  },
  {
   "cell_type": "code",
   "execution_count": null,
   "id": "f29377db2b071467",
   "metadata": {
    "collapsed": false
   },
   "outputs": [],
   "source": [
    "df = pd.read_csv('data/portugal.csv', index_col='date', parse_dates=True)\n",
    "df_pl = pd.read_csv('data/poland.csv', index_col='date', parse_dates=True)"
   ]
  },
  {
   "cell_type": "code",
   "execution_count": null,
   "id": "e5fe8d9f06faf361",
   "metadata": {
    "collapsed": false
   },
   "outputs": [],
   "source": [
    "# check how many unique values are in each column\n",
    "df.nunique()\n",
    "\n",
    "# choose only columns with more than 1 unique value\n",
    "df = df.loc[:, df.nunique() > 1]"
   ]
  },
  {
   "cell_type": "code",
   "execution_count": null,
   "id": "98558e32c3cc28a9",
   "metadata": {
    "collapsed": false
   },
   "outputs": [],
   "source": [
    "df.columns"
   ]
  },
  {
   "cell_type": "code",
   "execution_count": null,
   "id": "78bb36de87a70f46",
   "metadata": {
    "collapsed": false
   },
   "outputs": [],
   "source": [
    "df.female_smokers"
   ]
  },
  {
   "cell_type": "code",
   "execution_count": null,
   "id": "662942bffb2db0a7",
   "metadata": {
    "collapsed": false
   },
   "outputs": [],
   "source": [
    "df.describe()"
   ]
  },
  {
   "cell_type": "code",
   "execution_count": null,
   "id": "c8ca53b07e146e80",
   "metadata": {
    "collapsed": false
   },
   "outputs": [],
   "source": [
    "a# create histogram of daily cases, x -axis is the date\n",
    "\n",
    "plt.figure(figsize=(10, 6))\n",
    "plt.plot(df.index, df['total_cases'], label='Portugal', color='red')\n",
    "plt.plot(df_pl.index, df_pl['total_cases'], label='Poland', color='grey')\n",
    "plt.legend()\n",
    "plt.xlabel('Date')\n",
    "plt.ylabel('Total cases')\n",
    "plt.yticks([0, 1000000, 2000000, 3000000, 4000000, 5000000, 6000000, 7000000], ['0M', '1M', '2M', '3M', '4M', '5M', '6M', '7M'])\n",
    "plt.title('Comparison of total cases in Portugal and Poland')\n",
    "plt.xticks(rotation=45)\n",
    "plt.ylim(-100000, 7500000)\n",
    "plt.grid(True, linestyle='--')\n",
    "plt.show()"
   ]
  },
  {
   "cell_type": "code",
   "execution_count": null,
   "id": "84adb89ef16f1526",
   "metadata": {
    "collapsed": false
   },
   "outputs": [],
   "source": [
    "from datetime import datetime\n",
    "\n",
    "# create histogram of the new cases, y-axis is the number of new cases, x-axis is the date\n",
    "\n",
    "plt.figure(figsize=(10, 6))\n",
    "plt.plot(df.index, df['new_cases'], label='Portugal', color='red', alpha=0.9)\n",
    "\n",
    "plt.xlabel('Date')\n",
    "plt.ylabel('New cases')\n",
    "plt.title('The new cases of Covid-19 in Portugal')\n",
    "plt.yticks([0, 50000, 100000, 150000, 200000, 250000, 300000, 350000, 400000, 450000], ['0', '50k', '100k', '150k', '200k', '250k', '300k', '350k', '400k', '450k'])\n",
    "plt.grid(True, linestyle='--')\n",
    "\n",
    "plt.show()\n"
   ]
  },
  {
   "cell_type": "code",
   "execution_count": null,
   "id": "7b5422491c6a01cb",
   "metadata": {
    "collapsed": false
   },
   "outputs": [],
   "source": [
    "# create animated plots to comapre total cases in Portugal and Poland using the same date scale - boxes\n",
    "\n",
    "import matplotlib.animation as animation\n",
    "\n",
    "fig, ax = plt.subplots(figsize=(10, 6))"
   ]
  },
  {
   "cell_type": "code",
   "execution_count": null,
   "id": "28542cfcaba9c31e",
   "metadata": {
    "collapsed": false
   },
   "outputs": [],
   "source": [
    "import pandas as pd\n",
    "df_portugal = pd.read_csv('./data/portugal.csv', index_col='date', parse_dates=True)['new_cases']\n",
    "df_poland = pd.read_csv('./data/poland.csv', index_col='date', parse_dates=True)['new_cases']\n",
    "\n",
    "df_portugal_r = df_portugal.resample('M').sum()\n",
    "df_poland_r = df_poland.resample('M').sum()\n",
    "\n",
    "df = pd.concat([df_portugal_r, df_poland_r], axis=1)\n",
    "df.columns = ['Portugal', 'Poland']"
   ]
  },
  {
   "cell_type": "code",
   "execution_count": null,
   "id": "734f86cc29dd383c",
   "metadata": {
    "collapsed": false
   },
   "outputs": [],
   "source": [
    "df"
   ]
  },
  {
   "cell_type": "code",
   "execution_count": null,
   "id": "89542ca99e60aa01",
   "metadata": {
    "collapsed": false
   },
   "outputs": [],
   "source": [
    "df_poland"
   ]
  },
  {
   "cell_type": "code",
   "execution_count": null,
   "id": "c48c55df60a7b4e7",
   "metadata": {
    "collapsed": false
   },
   "outputs": [],
   "source": [
    "# df = pd.read_csv('../../data/portugal.csv', index_col='date', parse_dates=True)\n",
    "\n",
    "df_portugal.fillna(0, inplace=True)\n",
    "\n",
    "df = df.resample('M').sum()"
   ]
  },
  {
   "cell_type": "code",
   "execution_count": null,
   "id": "add919792f4f255f",
   "metadata": {
    "collapsed": false
   },
   "outputs": [],
   "source": [
    "df"
   ]
  },
  {
   "cell_type": "code",
   "execution_count": null,
   "id": "8c81cfbc516486ec",
   "metadata": {
    "collapsed": false
   },
   "outputs": [],
   "source": [
    "df = pd.read_csv('../../data/portugal.csv', index_col='date', parse_dates=True)\n",
    "df.fillna(0, inplace=True)\n",
    "\n",
    "df = df.resample('M').sum()\n",
    "\n",
    "df['death_rate'] = (df['new_deaths'] / df['new_cases']) * 100\n",
    "\n",
    "def update(frame, ax, df):\n",
    "    ax.clear()\n",
    "\n",
    "    ax.plot(df.index[:frame], df['new_cases'][:frame], color='red', label='New cases')\n",
    "    ax.set_ylim(-100000, 2000000)\n",
    "    ax.set_yticks([0, 500000, 1000000, 1500000, 2000000])\n",
    "    ax.set_yticklabels(['0M', '0.5M', '1M', '1.5M', '2M'])\n",
    "    plt.ylabel('Cases')\n",
    "    ax.grid(True, linestyle='--', color='grey', alpha=0.3)\n",
    "\n",
    "    ax.plot(df.index[:frame], df['new_deaths'][:frame], color='black', label='Deaths')\n",
    "\n",
    "    plt.legend(loc='upper left')\n",
    "\n",
    "    case_pos = df['new_cases'][frame]\n",
    "    ax.text(df.index[frame], case_pos, f'{case_pos:.0f}',\n",
    "            ha='center', va='bottom', fontsize=8, color='red')\n",
    "\n",
    "    death_pos = df['new_deaths'][frame]\n",
    "    print(death_pos)\n",
    "    ax.text(df.index[frame], death_pos, f'{df[\"new_deaths\"][frame]:.0f}',\n",
    "             ha='center', va='top', fontsize=8, color='black')\n",
    "\n",
    "    ax.fill_between(df.index[:frame], df['new_cases'][:frame], color='red', alpha=0.1)\n",
    "    ax.fill_between(df.index[:frame], df['new_deaths'][:frame], color='black', alpha=0.1)\n",
    "\n",
    "    death_rate = df['death_rate'][frame]\n",
    "    ax.text(0.9, 0.8, f'{death_rate:.2f}% death rate',\n",
    "             ha='center', va='bottom', fontsize=8, color='blue', bbox=dict(facecolor='white', alpha=0.5))\n",
    "\n",
    "    ax.set_title('Comparison of New Cases and Deaths due to COVID-19 in Portugal')\n",
    "    plt.xlim(df.index[0], df.index[-1])\n",
    "    plt.text(0.51, 0.9, df.index[frame].strftime('%m.%Y'), transform=ax.transAxes,\n",
    "             ha='center', fontsize=15)\n",
    "\n"
   ]
  },
  {
   "cell_type": "code",
   "execution_count": null,
   "id": "f86920c2c2bbcbd7",
   "metadata": {
    "collapsed": false
   },
   "outputs": [],
   "source": [
    "\n",
    "import pandas as pd\n",
    "df= pd.read_csv('./data/portugal.csv', index_col='date', parse_dates=True)\n",
    "df.fillna(0, inplace=True)\n",
    "\n",
    "df_monthly = df.resample('M').max()\n",
    "\n",
    "df_vaccinations = df_monthly[\n",
    "    ['people_vaccinated_per_hundred', 'people_fully_vaccinated_per_hundred', 'total_boosters_per_hundred']]\n",
    "\n",
    "# drop 7 last rows\n",
    "\n",
    "df_vaccinations = df_vaccinations[:-7]\n",
    "\n",
    "df_vaccinations"
   ]
  },
  {
   "cell_type": "code",
   "execution_count": null,
   "id": "1cb06d2a29db1979",
   "metadata": {
    "collapsed": false
   },
   "outputs": [],
   "source": [
    "df.describe()"
   ]
  },
  {
   "cell_type": "code",
   "execution_count": null,
   "id": "5cf0cec683763a8d",
   "metadata": {
    "collapsed": false
   },
   "outputs": [],
   "source": []
  },
  {
   "cell_type": "code",
   "execution_count": null,
   "id": "4b42626135b5757c",
   "metadata": {
    "collapsed": false
   },
   "outputs": [],
   "source": [
    "import pandas as pd\n",
    "\n",
    "# Wczytaj dane\n",
    "data = pd.read_csv('./data/portugal.csv')\n",
    "\n",
    "data['date'] = pd.to_datetime(data['date'], format='%Y-%m-%d', errors='coerce')\n",
    "\n",
    "data.set_index('date', inplace=True)\n",
    "\n",
    "data['data_freq'] = data.index.to_period('D')"
   ]
  },
  {
   "cell_type": "code",
   "execution_count": null,
   "id": "8337ef9c0a236a20",
   "metadata": {
    "collapsed": false
   },
   "outputs": [],
   "source": [
    "data"
   ]
  },
  {
   "cell_type": "code",
   "execution_count": null,
   "id": "d933bbb46b6a0de5",
   "metadata": {
    "collapsed": false
   },
   "outputs": [],
   "source": [
    "start_date = '2020-01-01'\n",
    "end_date = '2022-12-31'\n",
    "\n",
    "filtered_data = data.loc[start_date:end_date]\n"
   ]
  },
  {
   "cell_type": "code",
   "execution_count": null,
   "id": "941e1e8bb2eb3d8c",
   "metadata": {
    "collapsed": false
   },
   "outputs": [],
   "source": [
    "from statsmodels.tsa.arima.model import ARIMA\n",
    "from statsmodels.tsa.statespace.sarimax import SARIMAX\n",
    "from neuralprophet import NeuralProphet\n",
    "def compare_models(series, train_end_date, forecast_periods):\n",
    "    train = series[:train_end_date]\n",
    "\n",
    "    # ARIMA\n",
    "    arima_model = ARIMA(train, order=(5, 1, 0))\n",
    "    arima_fit = arima_model.fit()\n",
    "    arima_forecast = arima_fit.forecast(steps=forecast_periods)\n",
    "\n",
    "    # SARIMA\n",
    "    sarima_model = SARIMAX(train, order=(5, 1, 0), seasonal_order=(1, 1, 1, 12))\n",
    "    sarima_fit = sarima_model.fit()\n",
    "    sarima_forecast = sarima_fit.forecast(steps=forecast_periods)\n",
    "\n",
    "    # NeuralProphet\n",
    "    prophet_data = pd.DataFrame({'ds': train.index, 'y': train.values})\n",
    "    prophet_model = NeuralProphet()\n",
    "    prophet_model.fit(prophet_data, freq='D')\n",
    "    future = prophet_model.make_future_dataframe(prophet_data, periods=forecast_periods)\n",
    "    prophet_forecast = prophet_model.predict(future)['yhat1'].values\n",
    "\n",
    "    print(f\"ARIMA AIC: {arima_fit.aic}, BIC: {arima_fit.bic}\")\n",
    "    print(f\"SARIMA AIC: {sarima_fit.aic}, BIC: {sarima_fit.bic}\")\n",
    "\n",
    "    return arima_forecast, sarima_forecast, prophet_forecast\n"
   ]
  },
  {
   "cell_type": "code",
   "execution_count": null,
   "id": "7d02d77f7f5d8f92",
   "metadata": {
    "collapsed": false
   },
   "outputs": [],
   "source": [
    "cases_forecast_arima_2022, cases_forecast_sarima_2022, cases_forecast_prophet_2022 = compare_models(cases_2020_22,'2022-12-31', 365)"
   ]
  },
  {
   "cell_type": "code",
   "execution_count": null,
   "id": "fe232c413180341c",
   "metadata": {
    "collapsed": false
   },
   "outputs": [],
   "source": [
    "cases_forecast_sarima_2022"
   ]
  },
  {
   "cell_type": "code",
   "execution_count": null,
   "id": "37ff9955e5759366",
   "metadata": {
    "collapsed": false
   },
   "outputs": [],
   "source": []
  },
  {
   "cell_type": "code",
   "execution_count": null,
   "id": "df1717771f084237",
   "metadata": {
    "collapsed": false
   },
   "outputs": [],
   "source": [
    "prophet_data = pd.DataFrame({'ds': filtered_data['data_freq'], 'y': filtered_data['new_cases']})\n",
    "prophet_data.reset_index(inplace=True)\n",
    "prophet_data.drop('date', axis=1, inplace=True)\n",
    "prophet_data['ds'] = data.to_timestamp('D')"
   ]
  },
  {
   "cell_type": "code",
   "execution_count": null,
   "id": "f46ca0603913b31d",
   "metadata": {
    "collapsed": false
   },
   "outputs": [],
   "source": [
    "prophet_model = NeuralProphet()"
   ]
  },
  {
   "cell_type": "code",
   "execution_count": null,
   "id": "b9df58a2da64904a",
   "metadata": {
    "collapsed": false
   },
   "outputs": [],
   "source": [
    "prophet_model.fit(prophet_data, freq='D')"
   ]
  },
  {
   "cell_type": "code",
   "execution_count": null,
   "id": "fc361aab946b9a50",
   "metadata": {
    "collapsed": false
   },
   "outputs": [],
   "source": [
    "future = prophet_model.make_future_dataframe(prophet_data, periods=forecast_periods)\n",
    "prophet_forecast = prophet_model.predict(future)['yhat1'].values"
   ]
  },
  {
   "cell_type": "code",
   "execution_count": null,
   "id": "e5d8eae4908e4312",
   "metadata": {
    "collapsed": false
   },
   "outputs": [],
   "source": [
    "import pandas as pd\n",
    "from neuralprophet import NeuralProphet\n",
    "import matplotlib.pyplot as plt\n",
    "\n",
    "# Wczytaj dane\n",
    "data = pd.read_csv('./data/portugal.csv')\n",
    "\n",
    "# Przekształć kolumnę 'date' na typ datetime\n",
    "data['date'] = pd.to_datetime(data['date'], format='%Y-%m-%d', errors='coerce')\n",
    "\n",
    "# Ustaw kolumnę 'date' jako indeks\n",
    "data.set_index('date', inplace=True)\n",
    "\n",
    "# Filtruj dane tylko z lat 2020, 2021, 2022\n",
    "filtered_data = data.loc['2020-01-01':'2022-12-31']\n",
    "\n",
    "# Przygotuj dane w odpowiednim formacie dla NeuralProphet\n",
    "df = filtered_data.reset_index()[['date', 'new_cases']]\n",
    "df.columns = ['ds', 'y']\n",
    "\n",
    "df\n"
   ]
  },
  {
   "cell_type": "code",
   "execution_count": null,
   "id": "b91a66bed4af7218",
   "metadata": {
    "collapsed": false
   },
   "outputs": [],
   "source": [
    "# Zainicjuj model NeuralProphet\n",
    "model = NeuralProphet()\n",
    "\n",
    "# Wytrenuj model\n",
    "model.fit(df, freq='D')\n",
    "future = model.make_future_dataframe(df, periods=365)\n",
    "forecast = model.predict(future)"
   ]
  },
  {
   "cell_type": "code",
   "execution_count": null,
   "id": "9fbc08180c010830",
   "metadata": {
    "collapsed": false
   },
   "outputs": [],
   "source": [
    "fig, ax = plt.subplots(figsize=(10, 6))\n",
    "model.plot(forecast, ax=ax)\n",
    "plt.show()"
   ]
  },
  {
   "cell_type": "code",
   "execution_count": null,
   "id": "6262cafd8612b255",
   "metadata": {
    "collapsed": false
   },
   "outputs": [],
   "source": [
    "import pandas as pd\n",
    "from neuralprophet import NeuralProphet\n",
    "import matplotlib.pyplot as plt\n",
    "\n",
    "data = pd.read_csv('./data/portugal.csv')\n",
    "\n",
    "data['date'] = pd.to_datetime(data['date'], format='%Y-%m-%d', errors='coerce')\n",
    "\n",
    "data.set_index('date', inplace=True)\n",
    "\n",
    "filtered_data = data.loc['2020-01-01':'2022-12-31']\n",
    "\n",
    "df = filtered_data.reset_index()[['date', 'new_cases']]\n",
    "df.columns = ['ds', 'y']\n",
    "\n",
    "model = NeuralProphet(\n",
    "    yearly_seasonality=True,\n",
    "    weekly_seasonality=True,\n",
    "    daily_seasonality=False,\n",
    "    n_forecasts=1,\n",
    "    n_lags=0,\n",
    "    seasonality_mode='additive'\n",
    ")\n",
    "metrics = model.fit(df, freq='D', epochs=100)\n",
    "\n",
    "future = model.make_future_dataframe(df, periods=365)\n",
    "forecast = model.predict(future)\n"
   ]
  },
  {
   "cell_type": "code",
   "execution_count": null,
   "id": "22de4802166ab54a",
   "metadata": {
    "collapsed": false
   },
   "outputs": [],
   "source": [
    "forecast"
   ]
  },
  {
   "cell_type": "code",
   "execution_count": null,
   "id": "f340018d25e8c4f7",
   "metadata": {
    "collapsed": false
   },
   "outputs": [],
   "source": [
    "forecast['yhat1'].plot()"
   ]
  },
  {
   "cell_type": "code",
   "execution_count": null,
   "id": "2126bac24827b729",
   "metadata": {
    "collapsed": false
   },
   "outputs": [],
   "source": [
    "data = pd.read_csv('./data/portugal.csv')\n",
    "df = pd.DataFrame()\n",
    "df['ds'] = pd.to_datetime(data['date'], format='%Y-%m-%d', errors='coerce')\n",
    "df['y'] = data['new_cases']\n",
    "df.plot(x='ds', y='y')"
   ]
  },
  {
   "cell_type": "code",
   "execution_count": null,
   "id": "4d1ec13db7e04b9a",
   "metadata": {
    "collapsed": false
   },
   "outputs": [],
   "source": [
    "–from neuralprophet import set_random_seed\n",
    "\n",
    "set_random_seed(1234)\n",
    "nm = NeuralProphet(n_changepoints=100,\n",
    "                   daily_seasonality=False,   \n",
    "                   yearly_seasonality=True,\n",
    "                   weekly_seasonality=False,\n",
    "                   changepoints_range=0.95,\n",
    "                   seasonality_reg=0.1)\n",
    "\n",
    "nm_result = nm.fit(df, freq='D')"
   ]
  },
  {
   "cell_type": "code",
   "execution_count": null,
   "id": "a97a522e696c32b1",
   "metadata": {
    "collapsed": false
   },
   "outputs": [],
   "source": [
    "plt.rcParams['figure.figsize'] = (7, 9)\n",
    "f, (ax1, ax2, ax3) = plt.subplots(3, 1, sharex=True)\n",
    "ax1.plot(nm_result.Loss)\n",
    "ax1.set_title('SmoothL1Loss')\n",
    "ax1.grid()\n",
    "ax2.plot(nm_result.MAE)\n",
    "ax2.set_title('MAE')\n",
    "ax2.grid()\n",
    "ax3.plot(nm_result.RegLoss)\n",
    "ax3.set_title('RegLoss')\n",
    "ax3.grid()\n",
    "plt.show()"
   ]
  },
  {
   "cell_type": "code",
   "execution_count": null,
   "id": "e65f879a6f2188b0",
   "metadata": {
    "collapsed": false
   },
   "outputs": [],
   "source": [
    "future = nm.make_future_dataframe(df, periods = 200,\n",
    "                                  n_historic_predictions=len(df))\n",
    "\n",
    "forecast_2 = nm.predict(future)\n",
    "\n",
    "nm.plot(forecast_2)"
   ]
  },
  {
   "cell_type": "code",
   "execution_count": null,
   "id": "716cc21984b05b38",
   "metadata": {
    "collapsed": false
   },
   "outputs": [],
   "source": [
    "nm.plot_components(forecast_2)"
   ]
  },
  {
   "cell_type": "code",
   "execution_count": null,
   "id": "c3c1f6697e223a37",
   "metadata": {
    "collapsed": false
   },
   "outputs": [],
   "source": [
    "nm.plot_parameters()"
   ]
  },
  {
   "cell_type": "code",
   "execution_count": null,
   "id": "ac83e45fe5cb2c31",
   "metadata": {
    "collapsed": false
   },
   "outputs": [],
   "source": [
    "df2 = df[df['y'] > 0]\n",
    "plt.scatter(df2['ds'], df2['y'])"
   ]
  },
  {
   "cell_type": "code",
   "execution_count": null,
   "id": "206e2b453b86ef1e",
   "metadata": {
    "collapsed": false
   },
   "outputs": [],
   "source": [
    "df2"
   ]
  },
  {
   "cell_type": "code",
   "execution_count": null,
   "id": "5d46aef023efd23f",
   "metadata": {
    "collapsed": false
   },
   "outputs": [],
   "source": [
    "from statsmodels.graphics.tsaplots import plot_acf\n",
    "plot_acf(data['new_cases'].dropna(), lags=30)\n",
    "plt.show()"
   ]
  },
  {
   "cell_type": "code",
   "execution_count": null,
   "id": "1e364e12f2eccaa6",
   "metadata": {
    "collapsed": false
   },
   "outputs": [],
   "source": [
    "data['date'] = pd.to_datetime(data['date'], format='%Y-%m-%d', errors='coerce')\n",
    "\n",
    "# Oblicz różnice między kolejnymi datami\n",
    "data['date_diff'] = data['date'].diff().dt.days\n",
    "\n",
    "# Sprawdź unikalne wartości różnic\n",
    "unique_diffs = data['date_diff'].dropna().unique()\n",
    "\n",
    "print(\"Unikalne różnice między datami:\", unique_diffs)"
   ]
  },
  {
   "cell_type": "code",
   "execution_count": null,
   "id": "293fce7cb18d7f99",
   "metadata": {
    "collapsed": false
   },
   "outputs": [],
   "source": [
    "import pandas as pd\n",
    "from neuralprophet import NeuralProphet\n",
    "from neuralprophet import set_random_seed\n",
    "import plotly.graph_objects as go\n",
    "import plotly.io as pio\n",
    "\n",
    "# Wczytaj dane\n",
    "data = pd.read_csv('./data/portugal.csv')\n",
    "\n",
    "# Przygotuj dane\n",
    "df = pd.DataFrame()\n",
    "df['ds'] = pd.to_datetime(data['date'], format='%Y-%m-%d', errors='coerce')\n",
    "df['y'] = data['new_cases']\n",
    "\n",
    "# Filtruj dane, aby usunąć zerowe wartości\n",
    "df = df[df['y'] > 0]\n",
    "\n",
    "# Podział danych na dwa okresy\n",
    "period1 = df[(df['ds'] >= '2020-01-01') & (df['ds'] < '2023-01-01')]\n",
    "period2 = df[(df['ds'] >= '2023-01-01') & (df['ds'] <= '2025-01-01')]\n",
    "\n",
    "# Ustawienie ziarna losowego\n",
    "set_random_seed(1234)\n",
    "\n",
    "# Konfiguracja i trenowanie modelu dla period1\n",
    "nm1 = NeuralProphet(n_changepoints=300,\n",
    "                    daily_seasonality=True,\n",
    "                    yearly_seasonality=True,\n",
    "                    weekly_seasonality=False,\n",
    "                    changepoints_range=0.95)\n",
    "\n",
    "nm_result1 = nm1.fit(period1, freq='D')\n",
    "future1 = nm1.make_future_dataframe(period1, periods=365, n_historic_predictions=len(period1))\n",
    "forecast1 = nm1.predict(future1)\n",
    "\n",
    "# Zapobieganie ujemnym wartościom\n",
    "forecast1['yhat1'] = forecast1['yhat1'].apply(lambda x: max(0, x))\n",
    "\n",
    "# Konfiguracja i trenowanie modelu dla period2\n",
    "nm2 = NeuralProphet(n_changepoints=300,\n",
    "                    daily_seasonality=True,\n",
    "                    yearly_seasonality=True,\n",
    "                    weekly_seasonality=False,\n",
    "                    changepoints_range=0.95)\n",
    "\n",
    "nm_result2 = nm2.fit(period2, freq='D')\n",
    "future2 = nm2.make_future_dataframe(period2, periods=365, n_historic_predictions=len(period2))\n",
    "forecast2 = nm2.predict(future2)\n",
    "\n",
    "# Zapobieganie ujemnym wartościom\n",
    "forecast2['yhat1'] = forecast2['yhat1'].apply(lambda x: max(0, x))\n",
    "\n",
    "# Tworzenie wykresu za pomocą Plotly\n",
    "fig = go.Figure()\n",
    "\n",
    "# Dodanie rzeczywistych wartości z period1\n",
    "fig.add_trace(go.Scatter(x=period1['ds'], y=period1['y'], mode='lines', name='Actual Period1'))\n",
    "\n",
    "# Dodanie prognozowanych wartości z period1\n",
    "fig.add_trace(go.Scatter(x=forecast1['ds'], y=forecast1['yhat1'], mode='lines', name='Forecast Period1'))\n",
    "\n",
    "# Dodanie rzeczywistych wartości z period2\n",
    "fig.add_trace(go.Scatter(x=period2['ds'], y=period2['y'], mode='lines', name='Actual Period2'))\n",
    "\n",
    "# Dodanie prognozowanych wartości z period2\n",
    "fig.add_trace(go.Scatter(x=forecast2['ds'], y=forecast2['yhat1'], mode='lines', name='Forecast Period2'))\n",
    "\n",
    "# Ustawienia wykresu\n",
    "fig.update_layout(title='NeuralProphet Forecasting Model - Portugal',\n",
    "                  xaxis_title='Date',\n",
    "                  yaxis_title='New Cases',\n",
    "                  template='plotly_dark',\n",
    "                  showlegend=True)\n",
    "\n",
    "# Zapisz wykres do pliku HTML\n",
    "pio.write_html(fig, file=\"./plots/combined_forecast.html\", auto_open=True)\n",
    "\n",
    "# Wyświetlenie wykresu w trybie offline (jeśli to konieczne)\n",
    "fig.show()\n"
   ]
  },
  {
   "cell_type": "code",
   "execution_count": null,
   "id": "c310ca5d3a191cfb",
   "metadata": {
    "collapsed": false
   },
   "outputs": [],
   "source": [
    "import pandas as pd\n",
    "from neuralprophet import NeuralProphet\n",
    "from neuralprophet import set_random_seed\n",
    "import plotly.graph_objects as go\n",
    "import plotly.io as pio\n",
    "\n",
    "data = pd.read_csv('./data/portugal.csv')\n",
    "\n",
    "df = pd.DataFrame()\n",
    "df['ds'] = pd.to_datetime(data['date'], format='%Y-%m-%d', errors='coerce')\n",
    "df['y'] = data['new_cases']\n",
    "\n",
    "df = df[df['y'] > 0]\n",
    "\n",
    "period1 = df[(df['ds'] >= '2020-01-01') & (df['ds'] < '2023-01-01')]\n",
    "period2 = df[(df['ds'] >= '2023-01-01') & (df['ds'] <= '2025-01-01')]\n",
    "\n",
    "# Forecast for the first period\n",
    "set_random_seed(1234)\n",
    "nm1 = NeuralProphet(n_changepoints=300,\n",
    "                    daily_seasonality=True,\n",
    "                    yearly_seasonality=True,\n",
    "                    weekly_seasonality=False,\n",
    "                    changepoints_range=0.95)\n",
    "\n",
    "nm_result = nm1.fit(period1, freq='D')\n",
    "future = nm1.make_future_dataframe(period1, periods=1500, n_historic_predictions=len(period1))\n",
    "forecast_1 = nm1.predict(future)\n",
    "\n",
    "forecast_1['yhat1'] = forecast_1['yhat1'].apply(lambda x: max(0, x))\n",
    "\n",
    "# Forecast for the second period\n",
    "nm2 = NeuralProphet(n_changepoints=300,\n",
    "                    daily_seasonality=True,\n",
    "                    yearly_seasonality=True,\n",
    "                    weekly_seasonality=False,\n",
    "                    changepoints_range=0.95)\n",
    "\n",
    "nm_result2 = nm2.fit(period2, freq='D')\n",
    "future2 = nm2.make_future_dataframe(period2, periods=1000, n_historic_predictions=len(period2))\n",
    "forecast_2 = nm2.predict(future2)\n",
    "\n",
    "forecast_2['yhat1'] = forecast_2['yhat1'].apply(lambda x: max(0, x))\n",
    "\n",
    "# Two forecasts in one plot\n",
    "\n"
   ]
  },
  {
   "cell_type": "code",
   "execution_count": 246,
   "id": "7e858923bbdf9027",
   "metadata": {
    "collapsed": false,
    "ExecuteTime": {
     "end_time": "2024-05-20T20:24:46.612114Z",
     "start_time": "2024-05-20T20:24:46.149902Z"
    }
   },
   "outputs": [],
   "source": [
    "overlap_forecast = forecast_1[forecast_1['ds'] <= period1['ds'].max()]\n",
    "future_forecast = forecast_1[forecast_1['ds'] > period1['ds'].max()]\n",
    "\n",
    "overlap_forecast2 = forecast_2[forecast_2['ds'] <= period2['ds'].max()]\n",
    "future_forecast2 = forecast_2[forecast_2['ds'] > period2['ds'].max()]\n",
    "fig = go.Figure()\n",
    "fig.add_trace(go.Scatter(x=df['ds'], y=df['y'], mode='lines',\n",
    "                         name='observed data', line=dict(color='black')))\n",
    "\n",
    "fig.add_trace(go.Scatter(x=overlap_forecast['ds'], y=overlap_forecast['yhat1'], mode='lines',\n",
    "                         name='forecast based on period 2020-2022 (overlap)', line=dict(color='orange'), opacity=0.6))\n",
    "\n",
    "fig.add_trace(go.Scatter(x=future_forecast['ds'], y=future_forecast['yhat1'], mode='lines',\n",
    "                         name='forecast based on period 2020-2022', line=dict(color='orange')))\n",
    "\n",
    "fig.add_trace(go.Scatter(x=overlap_forecast2['ds'], y=overlap_forecast2['yhat1'], mode='lines',\n",
    "                         name='forecast based on period 2023-2024 (overlap)', line=dict(color='red'), opacity=0.6))\n",
    "\n",
    "fig.add_trace(go.Scatter(x=future_forecast2['ds'], y=future_forecast2['yhat1'], mode='lines',\n",
    "                         name='forecast based on period 2023-2024', line=dict(color='red')))\n",
    "\n",
    "fig.update_layout(title='Forecast of new COVID-19 cases in Portugal',\n",
    "                  xaxis_title='Date',\n",
    "                  yaxis_title='New Cases',\n",
    "                  template='plotly_white',\n",
    "                  showlegend=True,\n",
    "                  hovermode='x unified',\n",
    "                  legend=dict(\n",
    "                        x=0.7,\n",
    "                        y=0.99,\n",
    "                        xanchor='left',\n",
    "                        yanchor='top',\n",
    "                        bgcolor='rgba(255, 255, 255, 0.5)',\n",
    "                        bordercolor='rgba(0, 0, 0, 0.5)',\n",
    "                        borderwidth=1\n",
    "                    )\n",
    "                  )\n",
    "\n",
    "pio.write_html(fig, file=\"./plots/9_cases_forecast.html\", auto_open=True)\n"
   ]
  },
  {
   "cell_type": "code",
   "execution_count": null,
   "id": "86254e25bbdb673a",
   "metadata": {
    "collapsed": false
   },
   "outputs": [],
   "source": [
    "fig1 = go.Figure()\n",
    "fig1.add_trace(go.Scatter(x=period1['ds'], y=period1['y'], mode='lines', name='observed', line=dict(color='black')))\n",
    "\n",
    "fig1.add_trace(go.Scatter(x=overlap_forecast['ds'], y=overlap_forecast['yhat1'], mode='lines',\n",
    "                         name='forecast (overlap)', line=dict(color='orange'), opacity=0.6))\n",
    "\n",
    "fig1.add_trace(go.Scatter(x=future_forecast['ds'], y=future_forecast['yhat1'], mode='lines',\n",
    "                         name='forecast', line=dict(color='orange')))\n",
    "\n",
    "fig1.update_layout(title='Prediction based on first period: 2020-2022',\n",
    "                   xaxis_title='Date',\n",
    "                   yaxis_title='New Cases',\n",
    "                   template='plotly_white',\n",
    "                   hovermode='x')\n",
    "\n",
    "fig1.write_html(\"./plots/9_cases_period1_forecast.html\")\n",
    "\n",
    "fig2 = go.Figure()\n",
    "fig2.add_trace(go.Scatter(x=period2['ds'], y=period2['y'], mode='lines', name='observed', line=dict(color='black')))\n",
    "\n",
    "fig2.add_trace(go.Scatter(x=overlap_forecast2['ds'], y=overlap_forecast2['yhat1'], mode='lines',\n",
    "                         name='forecast (overlap)', line=dict(color='red'), opacity=0.6))\n",
    "\n",
    "fig2.add_trace(go.Scatter(x=future_forecast2['ds'], y=future_forecast2['yhat1'], mode='lines',\n",
    "                         name='forecast', line=dict(color='red')))\n",
    "\n",
    "fig2.update_layout(title='Prediction based on second period: 2023-2024',\n",
    "                   xaxis_title='Date',\n",
    "                   yaxis_title='New Cases',\n",
    "                   template='plotly_white',\n",
    "                   hovermode='x')\n",
    "\n",
    "fig2.write_html(\"./plots/9_cases_period2_forecast.html\")\n"
   ]
  },
  {
   "cell_type": "code",
   "execution_count": null,
   "id": "5d1c2e995aa25a93",
   "metadata": {
    "collapsed": false
   },
   "outputs": [],
   "source": [
    "fig_plotly = nm1.plot(forecast_2, plotting_backend='plotly')\n",
    "pio.write_image(fig_plotly, 'plots/9_cases_period1_forecast.png', format='png')"
   ]
  },
  {
   "cell_type": "code",
   "execution_count": null,
   "id": "a56f1599f3b4a52",
   "metadata": {
    "collapsed": false
   },
   "outputs": [],
   "source": [
    "pio.write_image(fig1, 'plots/9_cases_period1_forecast.png', format='png')"
   ]
  },
  {
   "cell_type": "code",
   "execution_count": null,
   "id": "70d15defe4eb5234",
   "metadata": {
    "collapsed": false
   },
   "outputs": [],
   "source": [
    "# fig, fig1, fig2 static in one plot\n",
    "import matplotlib.pyplot as plt\n",
    "\n",
    "fig, ax = plt.subplots(figsize=(10, 6))\n",
    "\n",
    "ax.plot(df['ds'], df['y'], label='Observed', color='black')\n",
    "ax.plot(forecast_1['ds'], forecast_1['yhat1'], label='Forecast 2020-2022', color='orange')\n",
    "\n",
    "ax.plot(forecast_2['ds'], forecast_2['yhat1'], label='Forecast 2023-2024', color='red')\n",
    "\n",
    "plt.title('Forecast of new COVID-19 cases in Portugal')\n",
    "\n",
    "plt.xlabel('Date')\n",
    "plt.ylabel('New Cases')\n",
    "\n",
    "plt.legend()\n",
    "\n",
    "plt.grid(True, linestyle='--')\n",
    "\n",
    "plt.show()"
   ]
  },
  {
   "cell_type": "code",
   "execution_count": null,
   "outputs": [],
   "source": [
    "fig_stat = plt.figure(figsize=(10, 6))\n",
    "\n",
    "plt.plot(forecast_1['ds'], forecast_1['yhat1'], label='forecast based on the period 2020-2022', color='orange') \n",
    "plt.plot(forecast_2['ds'], forecast_2['yhat1'], label='forecast based on the period 2023-2024', color='red')\n",
    "plt.plot(df['ds'], df['y'], label='observed', color='black')\n",
    "\n",
    "plt.title('Forecast of new COVID-19 cases in Portugal (NeuralProphet)')\n",
    "plt.xlabel('Date')\n",
    "plt.ylabel('New Cases')\n",
    "plt.grid(True, which='both', linestyle='--', lw=0.5)\n",
    "plt.legend()\n",
    "plt.yticks([0, 50000, 100000, 150000, 200000, 250000, 300000, 350000, 400000, 450000], ['0', '50k', '100k', '150k', '200k', '250k', '300k', '350k', '400k', '450k'])\n",
    "plt.tight_layout()\n",
    "plt.savefig('./plots/9_cases_forecast.png', dpi=300)"
   ],
   "metadata": {
    "collapsed": false
   },
   "id": "1388755aa3593363"
  },
  {
   "cell_type": "code",
   "execution_count": null,
   "outputs": [],
   "source": [
    "fig, axs = plt.subplots(3, 1, figsize=(15, 15), gridspec_kw={'height_ratios': [1.5, 1, 1]})\n",
    "\n",
    "axs[0].plot(df['ds'], df['y'], label='Observed', color='black')\n",
    "axs[0].plot(overlap_forecast['ds'], overlap_forecast['yhat1'], label='Forecast 2020-2022 (overlap)', color='orange', alpha=0.6)\n",
    "axs[0].plot(overlap_forecast2['ds'], overlap_forecast2['yhat1'], label='Forecast 2023-2024 (overlap)', color='red', alpha=0.6)\n",
    "axs[0].plot(future_forecast['ds'], future_forecast['yhat1'], label='Forecast 2020-2022', color='orange')\n",
    "axs[0].plot(future_forecast2['ds'], future_forecast2['yhat1'], label='Forecast 2023-2024', color='red')\n",
    "axs[0].set_title('Forecast of New COVID-19 Deaths in Portugal (NeuralProphet)')\n",
    "axs[0].set_xlabel('Date')\n",
    "axs[0].set_ylabel('New Cases')\n",
    "axs[0].grid(True, which='both', linestyle='--', lw=0.5)\n",
    "axs[0].set_yticks([0, 50000, 100000, 150000, 200000, 250000, 300000, 350000, 400000, 450000])\n",
    "axs[0].set_yticklabels(['0', '50k', '100k', '150k', '200k', '250k', '300k', '350k', '400k', '450k'])\n",
    "axs[0].legend()\n",
    "\n",
    "axs[1].plot(period1['ds'], period1['y'], label='Observed', color='black')\n",
    "axs[1].plot(overlap_forecast['ds'], overlap_forecast['yhat1'], label='Forecast 2020-2022 (overlap)', color='orange', alpha=0.6)\n",
    "axs[1].plot(future_forecast['ds'], future_forecast['yhat1'], label='Forecast 2020-2022', color='orange')\n",
    "axs[1].set_title('Prediction Based on First Period: 2020-2022')\n",
    "axs[1].set_xlabel('Date')\n",
    "axs[1].set_ylabel('New Cases')\n",
    "axs[1].set_yticks([0, 50000, 100000, 150000, 200000, 250000, 300000, 350000, 400000, 450000])\n",
    "axs[1].set_yticklabels(['0', '50k', '100k', '150k', '200k', '250k', '300k', '350k', '400k', '450k'])\n",
    "axs[1].grid(True, which='both', linestyle='--', lw=0.5)\n",
    "axs[1].legend()\n",
    "\n",
    "axs[2].plot(period2['ds'], period2['y'], label='Observed', color='black')\n",
    "axs[2].plot(overlap_forecast2['ds'], overlap_forecast2['yhat1'], label='Forecast 2023-2024 (overlap)', color='red', alpha=0.6)\n",
    "axs[2].plot(future_forecast2['ds'], future_forecast2['yhat1'], label='Forecast 2023-2024', color='red')\n",
    "axs[2].set_title('Prediction Based on Second Period: 2023-2024')\n",
    "axs[2].set_xlabel('Date')\n",
    "axs[2].set_ylabel('New Cases')\n",
    "axs[2].set_yticks([0, 1000, 2000, 3000, 4000, 5000])\n",
    "axs[2].set_yticklabels(['0', '1k', '2k', '3k', '4k', '5k'])\n",
    "axs[2].grid(True, which='both', linestyle='--', lw=0.5)\n",
    "axs[2].legend()\n",
    "\n",
    "plt.tight_layout()\n",
    "plt.savefig('./plots/9_combined_forecast_cases.png', dpi=300)\n"
   ],
   "metadata": {
    "collapsed": false
   },
   "id": "51b3da3c00ba6071"
  },
  {
   "cell_type": "markdown",
   "source": [],
   "metadata": {
    "collapsed": false
   },
   "id": "f871d1e7cc045cda"
  },
  {
   "cell_type": "code",
   "execution_count": 247,
   "outputs": [
    {
     "name": "stderr",
     "output_type": "stream",
     "text": [
      "INFO - (NP.config.__post_init__) - Note: Trend changepoint regularization is experimental.\n",
      "INFO - (NP.config.__post_init__) - Note: Fourier-based seasonality regularization is experimental.\n",
      "WARNING - (NP.forecaster.fit) - When Global modeling with local normalization, metrics are displayed in normalized scale.\n",
      "WARNING - (py.warnings._showwarnmsg) - /Library/Frameworks/Python.framework/Versions/3.11/lib/python3.11/site-packages/neuralprophet/df_utils.py:1152: FutureWarning:\n",
      "\n",
      "Series.view is deprecated and will be removed in a future version. Use ``astype`` as an alternative to change the dtype.\n",
      "\n",
      "\n",
      "INFO - (NP.df_utils._infer_frequency) - Major frequency W-SUN corresponds to 99.31% of the data.\n",
      "WARNING - (py.warnings._showwarnmsg) - /Library/Frameworks/Python.framework/Versions/3.11/lib/python3.11/site-packages/neuralprophet/df_utils.py:1152: FutureWarning:\n",
      "\n",
      "Series.view is deprecated and will be removed in a future version. Use ``astype`` as an alternative to change the dtype.\n",
      "\n",
      "\n",
      "WARNING - (py.warnings._showwarnmsg) - /Library/Frameworks/Python.framework/Versions/3.11/lib/python3.11/site-packages/neuralprophet/df_utils.py:1152: FutureWarning:\n",
      "\n",
      "Series.view is deprecated and will be removed in a future version. Use ``astype`` as an alternative to change the dtype.\n",
      "\n",
      "\n",
      "WARNING - (NP.df_utils._infer_frequency) - Defined frequency D is different than major frequency W-SUN\n",
      "INFO - (NP.config.init_data_params) - Setting normalization to global as only one dataframe provided for training.\n",
      "INFO - (NP.config.set_auto_batch_epoch) - Auto-set batch_size to 16\n",
      "INFO - (NP.config.set_auto_batch_epoch) - Auto-set epochs to 210\n",
      "WARNING - (py.warnings._showwarnmsg) - /Library/Frameworks/Python.framework/Versions/3.11/lib/python3.11/site-packages/pytorch_lightning/trainer/setup.py:201: UserWarning:\n",
      "\n",
      "MPS available but not used. Set `accelerator` and `devices` using `Trainer(accelerator='mps', devices=1)`.\n",
      "\n",
      "\n",
      "WARNING - (NP.config.set_lr_finder_args) - Learning rate finder: The number of batches (10) is too small than the required number                     for the learning rate finder (209). The results might not be optimal.\n"
     ]
    },
    {
     "data": {
      "text/plain": "Finding best initial lr:   0%|          | 0/209 [00:00<?, ?it/s]",
      "application/vnd.jupyter.widget-view+json": {
       "version_major": 2,
       "version_minor": 0,
       "model_id": "cc83056ae92746cf800cfe76d3be2a62"
      }
     },
     "metadata": {},
     "output_type": "display_data"
    },
    {
     "data": {
      "text/plain": "Training: 0it [00:00, ?it/s]",
      "application/vnd.jupyter.widget-view+json": {
       "version_major": 2,
       "version_minor": 0,
       "model_id": "81996726fbec4ea58d0ace744badbaf1"
      }
     },
     "metadata": {},
     "output_type": "display_data"
    },
    {
     "name": "stderr",
     "output_type": "stream",
     "text": [
      "WARNING - (py.warnings._showwarnmsg) - /Library/Frameworks/Python.framework/Versions/3.11/lib/python3.11/site-packages/neuralprophet/df_utils.py:1152: FutureWarning:\n",
      "\n",
      "Series.view is deprecated and will be removed in a future version. Use ``astype`` as an alternative to change the dtype.\n",
      "\n",
      "\n",
      "INFO - (NP.df_utils._infer_frequency) - Major frequency W-SUN corresponds to 99.31% of the data.\n",
      "WARNING - (py.warnings._showwarnmsg) - /Library/Frameworks/Python.framework/Versions/3.11/lib/python3.11/site-packages/neuralprophet/df_utils.py:1152: FutureWarning:\n",
      "\n",
      "Series.view is deprecated and will be removed in a future version. Use ``astype`` as an alternative to change the dtype.\n",
      "\n",
      "\n",
      "WARNING - (py.warnings._showwarnmsg) - /Library/Frameworks/Python.framework/Versions/3.11/lib/python3.11/site-packages/neuralprophet/df_utils.py:1152: FutureWarning:\n",
      "\n",
      "Series.view is deprecated and will be removed in a future version. Use ``astype`` as an alternative to change the dtype.\n",
      "\n",
      "\n",
      "WARNING - (NP.df_utils._infer_frequency) - Defined frequency D is different than major frequency W-SUN\n",
      "WARNING - (py.warnings._showwarnmsg) - /Library/Frameworks/Python.framework/Versions/3.11/lib/python3.11/site-packages/neuralprophet/data/split.py:273: FutureWarning:\n",
      "\n",
      "The behavior of DataFrame concatenation with empty or all-NA entries is deprecated. In a future version, this will no longer exclude empty or all-NA columns when determining the result dtypes. To retain the old behavior, exclude the relevant entries before the concat operation.\n",
      "\n",
      "\n",
      "INFO - (NP.df_utils.return_df_in_original_format) - Returning df with no ID column\n",
      "WARNING - (py.warnings._showwarnmsg) - /Library/Frameworks/Python.framework/Versions/3.11/lib/python3.11/site-packages/neuralprophet/df_utils.py:1152: FutureWarning:\n",
      "\n",
      "Series.view is deprecated and will be removed in a future version. Use ``astype`` as an alternative to change the dtype.\n",
      "\n",
      "\n",
      "INFO - (NP.df_utils._infer_frequency) - Major frequency D corresponds to 91.185% of the data.\n",
      "WARNING - (py.warnings._showwarnmsg) - /Library/Frameworks/Python.framework/Versions/3.11/lib/python3.11/site-packages/neuralprophet/df_utils.py:1152: FutureWarning:\n",
      "\n",
      "Series.view is deprecated and will be removed in a future version. Use ``astype`` as an alternative to change the dtype.\n",
      "\n",
      "\n",
      "WARNING - (py.warnings._showwarnmsg) - /Library/Frameworks/Python.framework/Versions/3.11/lib/python3.11/site-packages/neuralprophet/df_utils.py:1152: FutureWarning:\n",
      "\n",
      "Series.view is deprecated and will be removed in a future version. Use ``astype`` as an alternative to change the dtype.\n",
      "\n",
      "\n",
      "INFO - (NP.df_utils._infer_frequency) - Defined frequency is equal to major frequency - D\n",
      "WARNING - (py.warnings._showwarnmsg) - /Library/Frameworks/Python.framework/Versions/3.11/lib/python3.11/site-packages/neuralprophet/df_utils.py:1152: FutureWarning:\n",
      "\n",
      "Series.view is deprecated and will be removed in a future version. Use ``astype`` as an alternative to change the dtype.\n",
      "\n",
      "\n",
      "INFO - (NP.df_utils._infer_frequency) - Major frequency D corresponds to 91.185% of the data.\n",
      "WARNING - (py.warnings._showwarnmsg) - /Library/Frameworks/Python.framework/Versions/3.11/lib/python3.11/site-packages/neuralprophet/df_utils.py:1152: FutureWarning:\n",
      "\n",
      "Series.view is deprecated and will be removed in a future version. Use ``astype`` as an alternative to change the dtype.\n",
      "\n",
      "\n",
      "WARNING - (py.warnings._showwarnmsg) - /Library/Frameworks/Python.framework/Versions/3.11/lib/python3.11/site-packages/neuralprophet/df_utils.py:1152: FutureWarning:\n",
      "\n",
      "Series.view is deprecated and will be removed in a future version. Use ``astype`` as an alternative to change the dtype.\n",
      "\n",
      "\n",
      "INFO - (NP.df_utils._infer_frequency) - Defined frequency is equal to major frequency - D\n",
      "INFO - (NP.data.processing._handle_missing_data) - Dropped 1500 rows at the end with NaNs in 'y' column.\n"
     ]
    },
    {
     "data": {
      "text/plain": "Predicting: 10it [00:00, ?it/s]",
      "application/vnd.jupyter.widget-view+json": {
       "version_major": 2,
       "version_minor": 0,
       "model_id": "ad014954e4524ebb85eda6a678558e4e"
      }
     },
     "metadata": {},
     "output_type": "display_data"
    },
    {
     "name": "stderr",
     "output_type": "stream",
     "text": [
      "INFO - (NP.df_utils.return_df_in_original_format) - Returning df with no ID column\n",
      "WARNING - (NP.forecaster.fit) - When Global modeling with local normalization, metrics are displayed in normalized scale.\n",
      "WARNING - (py.warnings._showwarnmsg) - /Library/Frameworks/Python.framework/Versions/3.11/lib/python3.11/site-packages/neuralprophet/df_utils.py:1152: FutureWarning:\n",
      "\n",
      "Series.view is deprecated and will be removed in a future version. Use ``astype`` as an alternative to change the dtype.\n",
      "\n",
      "\n",
      "INFO - (NP.df_utils._infer_frequency) - Major frequency W-SUN corresponds to 98.529% of the data.\n",
      "WARNING - (py.warnings._showwarnmsg) - /Library/Frameworks/Python.framework/Versions/3.11/lib/python3.11/site-packages/neuralprophet/df_utils.py:1152: FutureWarning:\n",
      "\n",
      "Series.view is deprecated and will be removed in a future version. Use ``astype`` as an alternative to change the dtype.\n",
      "\n",
      "\n",
      "WARNING - (py.warnings._showwarnmsg) - /Library/Frameworks/Python.framework/Versions/3.11/lib/python3.11/site-packages/neuralprophet/df_utils.py:1152: FutureWarning:\n",
      "\n",
      "Series.view is deprecated and will be removed in a future version. Use ``astype`` as an alternative to change the dtype.\n",
      "\n",
      "\n",
      "WARNING - (NP.df_utils._infer_frequency) - Defined frequency D is different than major frequency W-SUN\n",
      "INFO - (NP.config.init_data_params) - Setting normalization to global as only one dataframe provided for training.\n",
      "INFO - (NP.config.set_auto_batch_epoch) - Auto-set batch_size to 8\n",
      "INFO - (NP.config.set_auto_batch_epoch) - Auto-set epochs to 290\n",
      "WARNING - (py.warnings._showwarnmsg) - /Library/Frameworks/Python.framework/Versions/3.11/lib/python3.11/site-packages/pytorch_lightning/trainer/setup.py:201: UserWarning:\n",
      "\n",
      "MPS available but not used. Set `accelerator` and `devices` using `Trainer(accelerator='mps', devices=1)`.\n",
      "\n",
      "\n",
      "WARNING - (NP.config.set_lr_finder_args) - Learning rate finder: The number of batches (9) is too small than the required number                     for the learning rate finder (205). The results might not be optimal.\n"
     ]
    },
    {
     "data": {
      "text/plain": "Finding best initial lr:   0%|          | 0/205 [00:00<?, ?it/s]",
      "application/vnd.jupyter.widget-view+json": {
       "version_major": 2,
       "version_minor": 0,
       "model_id": "9e4bd422e4df4ea5803b89e55387ee40"
      }
     },
     "metadata": {},
     "output_type": "display_data"
    },
    {
     "data": {
      "text/plain": "Training: 0it [00:00, ?it/s]",
      "application/vnd.jupyter.widget-view+json": {
       "version_major": 2,
       "version_minor": 0,
       "model_id": "b8c366ca96fc461eb5508c17421a0702"
      }
     },
     "metadata": {},
     "output_type": "display_data"
    },
    {
     "name": "stderr",
     "output_type": "stream",
     "text": [
      "WARNING - (py.warnings._showwarnmsg) - /Library/Frameworks/Python.framework/Versions/3.11/lib/python3.11/site-packages/neuralprophet/df_utils.py:1152: FutureWarning:\n",
      "\n",
      "Series.view is deprecated and will be removed in a future version. Use ``astype`` as an alternative to change the dtype.\n",
      "\n",
      "\n",
      "INFO - (NP.df_utils._infer_frequency) - Major frequency W-SUN corresponds to 98.529% of the data.\n",
      "WARNING - (py.warnings._showwarnmsg) - /Library/Frameworks/Python.framework/Versions/3.11/lib/python3.11/site-packages/neuralprophet/df_utils.py:1152: FutureWarning:\n",
      "\n",
      "Series.view is deprecated and will be removed in a future version. Use ``astype`` as an alternative to change the dtype.\n",
      "\n",
      "\n",
      "WARNING - (py.warnings._showwarnmsg) - /Library/Frameworks/Python.framework/Versions/3.11/lib/python3.11/site-packages/neuralprophet/df_utils.py:1152: FutureWarning:\n",
      "\n",
      "Series.view is deprecated and will be removed in a future version. Use ``astype`` as an alternative to change the dtype.\n",
      "\n",
      "\n",
      "WARNING - (NP.df_utils._infer_frequency) - Defined frequency D is different than major frequency W-SUN\n",
      "WARNING - (py.warnings._showwarnmsg) - /Library/Frameworks/Python.framework/Versions/3.11/lib/python3.11/site-packages/neuralprophet/data/split.py:273: FutureWarning:\n",
      "\n",
      "The behavior of DataFrame concatenation with empty or all-NA entries is deprecated. In a future version, this will no longer exclude empty or all-NA columns when determining the result dtypes. To retain the old behavior, exclude the relevant entries before the concat operation.\n",
      "\n",
      "\n",
      "INFO - (NP.df_utils.return_df_in_original_format) - Returning df with no ID column\n",
      "WARNING - (py.warnings._showwarnmsg) - /Library/Frameworks/Python.framework/Versions/3.11/lib/python3.11/site-packages/neuralprophet/df_utils.py:1152: FutureWarning:\n",
      "\n",
      "Series.view is deprecated and will be removed in a future version. Use ``astype`` as an alternative to change the dtype.\n",
      "\n",
      "\n",
      "INFO - (NP.df_utils._infer_frequency) - Major frequency D corresponds to 93.633% of the data.\n",
      "WARNING - (py.warnings._showwarnmsg) - /Library/Frameworks/Python.framework/Versions/3.11/lib/python3.11/site-packages/neuralprophet/df_utils.py:1152: FutureWarning:\n",
      "\n",
      "Series.view is deprecated and will be removed in a future version. Use ``astype`` as an alternative to change the dtype.\n",
      "\n",
      "\n",
      "WARNING - (py.warnings._showwarnmsg) - /Library/Frameworks/Python.framework/Versions/3.11/lib/python3.11/site-packages/neuralprophet/df_utils.py:1152: FutureWarning:\n",
      "\n",
      "Series.view is deprecated and will be removed in a future version. Use ``astype`` as an alternative to change the dtype.\n",
      "\n",
      "\n",
      "INFO - (NP.df_utils._infer_frequency) - Defined frequency is equal to major frequency - D\n",
      "WARNING - (py.warnings._showwarnmsg) - /Library/Frameworks/Python.framework/Versions/3.11/lib/python3.11/site-packages/neuralprophet/df_utils.py:1152: FutureWarning:\n",
      "\n",
      "Series.view is deprecated and will be removed in a future version. Use ``astype`` as an alternative to change the dtype.\n",
      "\n",
      "\n",
      "INFO - (NP.df_utils._infer_frequency) - Major frequency D corresponds to 93.633% of the data.\n",
      "WARNING - (py.warnings._showwarnmsg) - /Library/Frameworks/Python.framework/Versions/3.11/lib/python3.11/site-packages/neuralprophet/df_utils.py:1152: FutureWarning:\n",
      "\n",
      "Series.view is deprecated and will be removed in a future version. Use ``astype`` as an alternative to change the dtype.\n",
      "\n",
      "\n",
      "WARNING - (py.warnings._showwarnmsg) - /Library/Frameworks/Python.framework/Versions/3.11/lib/python3.11/site-packages/neuralprophet/df_utils.py:1152: FutureWarning:\n",
      "\n",
      "Series.view is deprecated and will be removed in a future version. Use ``astype`` as an alternative to change the dtype.\n",
      "\n",
      "\n",
      "INFO - (NP.df_utils._infer_frequency) - Defined frequency is equal to major frequency - D\n",
      "INFO - (NP.data.processing._handle_missing_data) - Dropped 1000 rows at the end with NaNs in 'y' column.\n"
     ]
    },
    {
     "data": {
      "text/plain": "Predicting: 9it [00:00, ?it/s]",
      "application/vnd.jupyter.widget-view+json": {
       "version_major": 2,
       "version_minor": 0,
       "model_id": "07b6b90879cd4a508f3c655f84063228"
      }
     },
     "metadata": {},
     "output_type": "display_data"
    },
    {
     "name": "stderr",
     "output_type": "stream",
     "text": [
      "INFO - (NP.df_utils.return_df_in_original_format) - Returning df with no ID column\n"
     ]
    }
   ],
   "source": [
    "import pandas as pd\n",
    "from neuralprophet import NeuralProphet\n",
    "from neuralprophet import set_random_seed\n",
    "import plotly.graph_objects as go\n",
    "import plotly.io as pio\n",
    "import matplotlib.pyplot as plt\n",
    "\n",
    "data = pd.read_csv('./data/portugal.csv')\n",
    "\n",
    "df = pd.DataFrame()\n",
    "df['ds'] = pd.to_datetime(data['date'], format='%Y-%m-%d', errors='coerce')\n",
    "df['y'] = data['new_deaths']\n",
    "\n",
    "df = df[df['y'] > 0]\n",
    "\n",
    "period1 = df[(df['ds'] >= '2020-01-01') & (df['ds'] < '2023-01-01')]\n",
    "period2 = df[(df['ds'] >= '2023-01-01') & (df['ds'] <= '2025-01-01')]\n",
    "\n",
    "# Forecast for the first period\n",
    "set_random_seed(1234)\n",
    "nm1 = NeuralProphet(n_changepoints=190,\n",
    "                    daily_seasonality=True,\n",
    "                    yearly_seasonality=True,\n",
    "                    weekly_seasonality=False,\n",
    "                    changepoints_range=0.95,\n",
    "                    seasonality_mode='additive',\n",
    "                    trend_reg=0.3,\n",
    "                     seasonality_reg=0.2 )\n",
    "\n",
    "nm_result = nm1.fit(period1, freq='D')\n",
    "future = nm1.make_future_dataframe(period1, periods=1500, n_historic_predictions=len(period1))\n",
    "forecast_1 = nm1.predict(future)\n",
    "\n",
    "forecast_1['yhat1'] = forecast_1['yhat1'].apply(lambda x: max(0, x))\n",
    "\n",
    "# Forecast for the second period\n",
    "nm2 = NeuralProphet(n_changepoints=200,\n",
    "                    daily_seasonality=True,\n",
    "                    yearly_seasonality=True,\n",
    "                    weekly_seasonality=False,\n",
    "                    changepoints_range=0.95)\n",
    "\n",
    "nm_result2 = nm2.fit(period2, freq='D')\n",
    "future2 = nm2.make_future_dataframe(period2, periods=1000, n_historic_predictions=len(period2))\n",
    "forecast_2 = nm2.predict(future2)\n",
    "\n",
    "forecast_2['yhat1'] = forecast_2['yhat1'].apply(lambda x: max(0, x))\n"
   ],
   "metadata": {
    "collapsed": false,
    "ExecuteTime": {
     "end_time": "2024-05-20T20:26:34.337847Z",
     "start_time": "2024-05-20T20:26:13.765383Z"
    }
   },
   "id": "95b1b36ef46ba152"
  },
  {
   "cell_type": "code",
   "execution_count": null,
   "outputs": [],
   "source": [],
   "metadata": {
    "collapsed": false
   },
   "id": "b315cb4a1091a369"
  },
  {
   "cell_type": "code",
   "execution_count": 250,
   "outputs": [],
   "source": [
    "overlap_forecast = forecast_1[forecast_1['ds'] <= period1['ds'].max()]\n",
    "future_forecast = forecast_1[forecast_1['ds'] > period1['ds'].max()]\n",
    "\n",
    "overlap_forecast2 = forecast_2[forecast_2['ds'] <= period2['ds'].max()]\n",
    "future_forecast2 = forecast_2[forecast_2['ds'] > period2['ds'].max()]\n",
    "\n",
    "fig = go.Figure()\n",
    "\n",
    "fig.add_trace(go.Scatter(x=df['ds'], y=df['y'], mode='lines',\n",
    "                         name='observed data', line=dict(color='black')))\n",
    "\n",
    "fig.add_trace(go.Scatter(x=overlap_forecast['ds'], y=overlap_forecast['yhat1'], mode='lines',\n",
    "                         name='forecast based on period 2020-2022 (overlap)', line=dict(color='orange'), opacity=0.6))\n",
    "\n",
    "fig.add_trace(go.Scatter(x=future_forecast['ds'], y=future_forecast['yhat1'], mode='lines',\n",
    "                         name='forecast based on period 2020-2022', line=dict(color='orange')))\n",
    "\n",
    "fig.add_trace(go.Scatter(x=overlap_forecast2['ds'], y=overlap_forecast2['yhat1'], mode='lines',\n",
    "                         name='forecast based on period 2023-2024 (overlap)', line=dict(color='red'), opacity=0.6))\n",
    "\n",
    "fig.add_trace(go.Scatter(x=future_forecast2['ds'], y=future_forecast2['yhat1'], mode='lines',\n",
    "                         name='forecast based on period 2023-2024', line=dict(color='red')))\n",
    "\n",
    "fig.update_layout(title='Forecast of new COVID-19 deaths in Portugal',\n",
    "                  xaxis_title='Date',\n",
    "                  yaxis_title='New Deaths',\n",
    "                  template='plotly_white',\n",
    "                  showlegend=True,\n",
    "                  hovermode='x unified',\n",
    "                  legend=dict(\n",
    "                      x=0.7,\n",
    "                      y=0.99,\n",
    "                      xanchor='left',\n",
    "                      yanchor='top',\n",
    "                      bgcolor='rgba(255, 255, 255, 0.5)',\n",
    "                      bordercolor='rgba(0, 0, 0, 0.5)',\n",
    "                      borderwidth=1\n",
    "                  ))\n",
    "\n",
    "pio.write_html(fig, file=\"./plots/9_deaths_forecast.html\", auto_open=True)\n"
   ],
   "metadata": {
    "collapsed": false,
    "ExecuteTime": {
     "end_time": "2024-05-20T20:28:11.597855Z",
     "start_time": "2024-05-20T20:28:11.242496Z"
    }
   },
   "id": "60bfddef0c7054ff"
  },
  {
   "cell_type": "code",
   "execution_count": 252,
   "outputs": [],
   "source": [
    "# Forecast plot for the first period\n",
    "fig1 = go.Figure()\n",
    "fig1.add_trace(go.Scatter(x=period1['ds'], y=period1['y'], mode='lines', name='observed', line=dict(color='black')))\n",
    "\n",
    "fig1.add_trace(go.Scatter(x=overlap_forecast['ds'], y=overlap_forecast['yhat1'], mode='lines',\n",
    "                         name='forecast (overlap)', line=dict(color='orange'), opacity=0.6))\n",
    "\n",
    "fig1.add_trace(go.Scatter(x=future_forecast['ds'], y=future_forecast['yhat1'], mode='lines',\n",
    "                         name='forecast', line=dict(color='orange')))\n",
    "\n",
    "fig1.update_layout(title='Prediction based on first period: 2020-2022',\n",
    "                   xaxis_title='Date',\n",
    "                   yaxis_title='New Deaths',\n",
    "                   template='plotly_white',\n",
    "                   hovermode='x')\n",
    "\n",
    "fig1.write_html(\"./plots/9_deaths_period1_forecast.html\")"
   ],
   "metadata": {
    "collapsed": false,
    "ExecuteTime": {
     "end_time": "2024-05-20T20:33:01.898074Z",
     "start_time": "2024-05-20T20:33:01.812395Z"
    }
   },
   "id": "bc94029462907eeb"
  },
  {
   "cell_type": "code",
   "execution_count": 251,
   "outputs": [],
   "source": [
    "fig2 = go.Figure()\n",
    "fig2.add_trace(go.Scatter(x=period2['ds'], y=period2['y'], mode='lines', name='observed', line=dict(color='black')))\n",
    "\n",
    "fig2.add_trace(go.Scatter(x=overlap_forecast2['ds'], y=overlap_forecast2['yhat1'], mode='lines',\n",
    "                         name='forecast (overlap)', line=dict(color='red'), opacity=0.6))\n",
    "\n",
    "fig2.add_trace(go.Scatter(x=future_forecast2['ds'], y=future_forecast2['yhat1'], mode='lines',\n",
    "                         name='forecast', line=dict(color='red')))\n",
    "\n",
    "fig2.update_layout(title='Prediction based on second period: 2023-2024',\n",
    "                   xaxis_title='Date',\n",
    "                   yaxis_title='New Deaths',\n",
    "                   template='plotly_white',\n",
    "                   hovermode='x')\n",
    "\n",
    "fig2.write_html(\"./plots/9_deaths_period2_forecast.html\")"
   ],
   "metadata": {
    "collapsed": false,
    "ExecuteTime": {
     "end_time": "2024-05-20T20:32:21.840413Z",
     "start_time": "2024-05-20T20:32:21.766969Z"
    }
   },
   "id": "100ebd4107b74bf4"
  },
  {
   "cell_type": "code",
   "execution_count": null,
   "outputs": [],
   "source": [
    "# Static plot\n",
    "\n",
    "fig, axs = plt.subplots(3, 1, figsize=(15, 15), gridspec_kw={'height_ratios': [1.5, 1, 1]})\n",
    "\n",
    "axs[0].plot(df['ds'], df['y'], label='Observed', color='black')\n",
    "axs[0].plot(overlap_forecast['ds'], overlap_forecast['yhat1'], label='Forecast 2020-2022 (overlap)', color='orange', alpha=0.6)\n",
    "axs[0].plot(overlap_forecast2['ds'], overlap_forecast2['yhat1'], label='Forecast 2023-2024 (overlap)', color='red', alpha=0.6)\n",
    "axs[0].plot(future_forecast['ds'], future_forecast['yhat1'], label='Forecast 2020-2022', color='orange')\n",
    "axs[0].plot(future_forecast2['ds'], future_forecast2['yhat1'], label='Forecast 2023-2024', color='red')\n",
    "axs[0].set_title('Forecast of New COVID-19 Deaths in Portugal (NeuralProphet)')\n",
    "axs[0].set_xlabel('Date')\n",
    "axs[0].set_ylabel('New Deaths')\n",
    "axs[0].grid(True, which='both', linestyle='--', lw=0.5)\n",
    "axs[0].legend()\n",
    "\n",
    "axs[1].plot(period1['ds'], period1['y'], label='Observed', color='black')\n",
    "axs[1].plot(overlap_forecast['ds'], overlap_forecast['yhat1'], label='Forecast 2020-2022 (overlap)', color='orange', alpha=0.6)\n",
    "axs[1].plot(future_forecast['ds'], future_forecast['yhat1'], label='Forecast 2020-2022', color='orange')\n",
    "axs[1].set_title('Prediction Based on First Period: 2020-2022')\n",
    "axs[1].set_xlabel('Date')\n",
    "axs[1].set_ylabel('New Deaths')\n",
    "axs[1].grid(True, which='both', linestyle='--', lw=0.5)\n",
    "axs[1].legend()\n",
    "\n",
    "axs[2].plot(period2['ds'], period2['y'], label='Observed', color='black')\n",
    "axs[2].plot(overlap_forecast2['ds'], overlap_forecast2['yhat1'], label='Forecast 2023-2024 (overlap)', color='red', alpha=0.6)\n",
    "axs[2].plot(future_forecast2['ds'], future_forecast2['yhat1'], label='Forecast 2023-2024', color='red')\n",
    "axs[2].set_title('Prediction Based on Second Period: 2023-2024')\n",
    "axs[2].set_xlabel('Date')\n",
    "axs[2].set_ylabel('New Deaths')\n",
    "axs[2].grid(True, which='both', linestyle='--', lw=0.5)\n",
    "axs[2].legend()\n",
    "\n",
    "plt.tight_layout()\n",
    "plt.savefig('./plots/9_combined_forecast_deaths.png', dpi=300)"
   ],
   "metadata": {
    "collapsed": false
   },
   "id": "b9ecaa5b6b1f5b99"
  },
  {
   "cell_type": "code",
   "execution_count": 8,
   "outputs": [
    {
     "data": {
      "text/plain": "                                       count          mean           std  \\\nnew_cases                             1562.0  3.612848e+03  2.310963e+04   \nreproduction_rate                     1025.0  1.031259e+00  2.771938e-01   \nicu_patients                           765.0  1.847895e+02  1.887849e+02   \nhosp_patients                          774.0  1.232337e+03  1.329660e+03   \nnew_tests                              822.0  5.209903e+04  6.074122e+04   \npositive_rate                          815.0  8.478307e-02  9.698713e-02   \npeople_vaccinated                      144.0  8.121690e+06  3.078003e+06   \npeople_fully_vaccinated                144.0  7.167316e+06  3.084811e+06   \ntotal_boosters                         144.0  4.394400e+06  3.166834e+06   \nstringency_index                      1092.0  4.385999e+01  2.609618e+01   \nexcess_mortality_cumulative_absolute   209.0  1.858138e+04  1.086071e+04   \nexcess_mortality_cumulative            209.0  6.740574e+00  4.602279e+00   \nexcess_mortality                       209.0  7.383445e+00  1.291621e+01   \n\n                                            min           25%         50%  \\\nnew_cases                                0.0000  0.000000e+00        0.00   \nreproduction_rate                        0.4100  9.000000e-01        1.00   \nicu_patients                             9.0000  6.700000e+01      116.00   \nhosp_patients                            9.0000  4.172500e+02      691.50   \nnew_tests                               40.0000  1.696900e+04    37255.50   \npositive_rate                            0.0066  2.030000e-02        0.04   \npeople_vaccinated                     5186.0000  8.943441e+06  9753919.50   \npeople_fully_vaccinated                  6.0000  7.753584e+06  8850197.50   \ntotal_boosters                           5.0000  8.003600e+04  6504711.50   \nstringency_index                         0.0000  1.389000e+01       49.86   \nexcess_mortality_cumulative_absolute -2151.6000  1.011320e+04    19728.80   \nexcess_mortality_cumulative            -11.8100  7.160000e+00        7.91   \nexcess_mortality                       -15.1000 -2.000000e-02        5.52   \n\n                                               75%           max  \nnew_cases                             0.000000e+00  4.053060e+05  \nreproduction_rate                     1.180000e+00  2.690000e+00  \nicu_patients                          1.840000e+02  9.040000e+02  \nhosp_patients                         1.399000e+03  6.869000e+03  \nnew_tests                             5.909300e+04  4.027560e+05  \npositive_rate                         1.303500e-01  5.301000e-01  \npeople_vaccinated                     9.789436e+06  9.821414e+06  \npeople_fully_vaccinated               8.905880e+06  8.909769e+06  \ntotal_boosters                        7.045710e+06  7.086326e+06  \nstringency_index                      6.389000e+01  8.796000e+01  \nexcess_mortality_cumulative_absolute  2.939040e+04  3.322759e+04  \nexcess_mortality_cumulative           8.890000e+00  1.414000e+01  \nexcess_mortality                      1.166000e+01  7.230000e+01  ",
      "text/html": "<div>\n<style scoped>\n    .dataframe tbody tr th:only-of-type {\n        vertical-align: middle;\n    }\n\n    .dataframe tbody tr th {\n        vertical-align: top;\n    }\n\n    .dataframe thead th {\n        text-align: right;\n    }\n</style>\n<table border=\"1\" class=\"dataframe\">\n  <thead>\n    <tr style=\"text-align: right;\">\n      <th></th>\n      <th>count</th>\n      <th>mean</th>\n      <th>std</th>\n      <th>min</th>\n      <th>25%</th>\n      <th>50%</th>\n      <th>75%</th>\n      <th>max</th>\n    </tr>\n  </thead>\n  <tbody>\n    <tr>\n      <th>new_cases</th>\n      <td>1562.0</td>\n      <td>3.612848e+03</td>\n      <td>2.310963e+04</td>\n      <td>0.0000</td>\n      <td>0.000000e+00</td>\n      <td>0.00</td>\n      <td>0.000000e+00</td>\n      <td>4.053060e+05</td>\n    </tr>\n    <tr>\n      <th>reproduction_rate</th>\n      <td>1025.0</td>\n      <td>1.031259e+00</td>\n      <td>2.771938e-01</td>\n      <td>0.4100</td>\n      <td>9.000000e-01</td>\n      <td>1.00</td>\n      <td>1.180000e+00</td>\n      <td>2.690000e+00</td>\n    </tr>\n    <tr>\n      <th>icu_patients</th>\n      <td>765.0</td>\n      <td>1.847895e+02</td>\n      <td>1.887849e+02</td>\n      <td>9.0000</td>\n      <td>6.700000e+01</td>\n      <td>116.00</td>\n      <td>1.840000e+02</td>\n      <td>9.040000e+02</td>\n    </tr>\n    <tr>\n      <th>hosp_patients</th>\n      <td>774.0</td>\n      <td>1.232337e+03</td>\n      <td>1.329660e+03</td>\n      <td>9.0000</td>\n      <td>4.172500e+02</td>\n      <td>691.50</td>\n      <td>1.399000e+03</td>\n      <td>6.869000e+03</td>\n    </tr>\n    <tr>\n      <th>new_tests</th>\n      <td>822.0</td>\n      <td>5.209903e+04</td>\n      <td>6.074122e+04</td>\n      <td>40.0000</td>\n      <td>1.696900e+04</td>\n      <td>37255.50</td>\n      <td>5.909300e+04</td>\n      <td>4.027560e+05</td>\n    </tr>\n    <tr>\n      <th>positive_rate</th>\n      <td>815.0</td>\n      <td>8.478307e-02</td>\n      <td>9.698713e-02</td>\n      <td>0.0066</td>\n      <td>2.030000e-02</td>\n      <td>0.04</td>\n      <td>1.303500e-01</td>\n      <td>5.301000e-01</td>\n    </tr>\n    <tr>\n      <th>people_vaccinated</th>\n      <td>144.0</td>\n      <td>8.121690e+06</td>\n      <td>3.078003e+06</td>\n      <td>5186.0000</td>\n      <td>8.943441e+06</td>\n      <td>9753919.50</td>\n      <td>9.789436e+06</td>\n      <td>9.821414e+06</td>\n    </tr>\n    <tr>\n      <th>people_fully_vaccinated</th>\n      <td>144.0</td>\n      <td>7.167316e+06</td>\n      <td>3.084811e+06</td>\n      <td>6.0000</td>\n      <td>7.753584e+06</td>\n      <td>8850197.50</td>\n      <td>8.905880e+06</td>\n      <td>8.909769e+06</td>\n    </tr>\n    <tr>\n      <th>total_boosters</th>\n      <td>144.0</td>\n      <td>4.394400e+06</td>\n      <td>3.166834e+06</td>\n      <td>5.0000</td>\n      <td>8.003600e+04</td>\n      <td>6504711.50</td>\n      <td>7.045710e+06</td>\n      <td>7.086326e+06</td>\n    </tr>\n    <tr>\n      <th>stringency_index</th>\n      <td>1092.0</td>\n      <td>4.385999e+01</td>\n      <td>2.609618e+01</td>\n      <td>0.0000</td>\n      <td>1.389000e+01</td>\n      <td>49.86</td>\n      <td>6.389000e+01</td>\n      <td>8.796000e+01</td>\n    </tr>\n    <tr>\n      <th>excess_mortality_cumulative_absolute</th>\n      <td>209.0</td>\n      <td>1.858138e+04</td>\n      <td>1.086071e+04</td>\n      <td>-2151.6000</td>\n      <td>1.011320e+04</td>\n      <td>19728.80</td>\n      <td>2.939040e+04</td>\n      <td>3.322759e+04</td>\n    </tr>\n    <tr>\n      <th>excess_mortality_cumulative</th>\n      <td>209.0</td>\n      <td>6.740574e+00</td>\n      <td>4.602279e+00</td>\n      <td>-11.8100</td>\n      <td>7.160000e+00</td>\n      <td>7.91</td>\n      <td>8.890000e+00</td>\n      <td>1.414000e+01</td>\n    </tr>\n    <tr>\n      <th>excess_mortality</th>\n      <td>209.0</td>\n      <td>7.383445e+00</td>\n      <td>1.291621e+01</td>\n      <td>-15.1000</td>\n      <td>-2.000000e-02</td>\n      <td>5.52</td>\n      <td>1.166000e+01</td>\n      <td>7.230000e+01</td>\n    </tr>\n  </tbody>\n</table>\n</div>"
     },
     "execution_count": 8,
     "metadata": {},
     "output_type": "execute_result"
    }
   ],
   "source": [],
   "metadata": {
    "collapsed": false,
    "ExecuteTime": {
     "end_time": "2024-05-22T14:45:31.209648Z",
     "start_time": "2024-05-22T14:45:31.177513Z"
    }
   },
   "id": "36159db4f08f244e"
  }
 ],
 "metadata": {
  "kernelspec": {
   "display_name": "covid19-venv",
   "language": "python",
   "name": "covid19-venv"
  },
  "language_info": {
   "codemirror_mode": {
    "name": "ipython",
    "version": 3
   },
   "file_extension": ".py",
   "mimetype": "text/x-python",
   "name": "python",
   "nbconvert_exporter": "python",
   "pygments_lexer": "ipython3",
   "version": "3.11.5"
  }
 },
 "nbformat": 4,
 "nbformat_minor": 5
}
